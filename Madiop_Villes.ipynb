{
 "cells": [
  {
   "cell_type": "markdown",
   "id": "8bbd6d16-2ef9-4e75-b611-2d87d7a7d218",
   "metadata": {},
   "source": [
    "### PROJET DU 05/12/2023"
   ]
  },
  {
   "cell_type": "code",
   "execution_count": null,
   "id": "9643726e-1ec0-4595-9662-3141ddb91fa7",
   "metadata": {},
   "outputs": [],
   "source": [
    "import pandas as pd\n",
    "import matplotlib.pyplot as plt\n",
    "import seaborn as sns"
   ]
  }
 ],
 "metadata": {
  "kernelspec": {
   "display_name": "Python 3 (ipykernel)",
   "language": "python",
   "name": "python3"
  },
  "language_info": {
   "codemirror_mode": {
    "name": "ipython",
    "version": 3
   },
   "file_extension": ".py",
   "mimetype": "text/x-python",
   "name": "python",
   "nbconvert_exporter": "python",
   "pygments_lexer": "ipython3",
   "version": "3.12.0"
  }
 },
 "nbformat": 4,
 "nbformat_minor": 5
}

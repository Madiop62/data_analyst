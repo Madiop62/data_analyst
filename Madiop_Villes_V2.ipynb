{
 "cells": [
  {
   "cell_type": "code",
   "execution_count": 3,
   "id": "edb69e6e-3685-46ee-b66a-d6dd97d89322",
   "metadata": {},
   "outputs": [
    {
     "name": "stdout",
     "output_type": "stream",
     "text": [
      "Defaulting to user installation because normal site-packages is not writeable\n",
      "Note: you may need to restart the kernel to use updated packages.\n"
     ]
    },
    {
     "name": "stderr",
     "output_type": "stream",
     "text": [
      "ERROR: Could not find a version that satisfies the requirement setlocale (from versions: none)\n",
      "ERROR: No matching distribution found for setlocale\n"
     ]
    }
   ],
   "source": [
    "pip install setlocale"
   ]
  },
  {
   "cell_type": "code",
   "execution_count": 8,
   "id": "c5eff930-d750-4b6a-8a8c-d66a470609f2",
   "metadata": {},
   "outputs": [
    {
     "name": "stderr",
     "output_type": "stream",
     "text": [
      "C:\\Users\\MDIENG\\AppData\\Local\\Temp\\112\\ipykernel_7876\\2069641830.py:25: DtypeWarning: Columns (14) have mixed types. Specify dtype option on import or set low_memory=False.\n",
      "  data_washington = pd.read_csv(\"cleaned_washington_city.csv\")\n"
     ]
    },
    {
     "data": {
      "application/vnd.jupyter.widget-view+json": {
       "model_id": "982ed61505984eb692445b9c62e40fcb",
       "version_major": 2,
       "version_minor": 0
      },
      "text/plain": [
       "HBox(children=(VBox(children=(RadioButtons(description='Villes :', options=('Chicago', 'New York', 'Washington…"
      ]
     },
     "metadata": {},
     "output_type": "display_data"
    },
    {
     "data": {
      "application/vnd.jupyter.widget-view+json": {
       "model_id": "6f9b3d440b684de1bf32680a5bd12892",
       "version_major": 2,
       "version_minor": 0
      },
      "text/plain": [
       "HBox(children=(HTML(value='<br><br><br><br><br><br><br><br>'), Button(description='Valider', style=ButtonStyle…"
      ]
     },
     "metadata": {},
     "output_type": "display_data"
    }
   ],
   "source": [
    "\"\"\"\n",
    "                             Script:\n",
    "                             Les données qui vont sont mis à disposition concernent 3 grandes villes au USA (New York, Chicago et Washington).\n",
    "                             Les données concernent:\n",
    "                             les 6 premiers mois de l'année 2017 pour New York,\n",
    "                             puis Juillet, Aout et Septembre 2017 pour Chicago\n",
    "                             et enfin, Octobre, Novembre et Décembre 2017 pour Washington.\n",
    "\n",
    "\"\"\"\n",
    "\n",
    "# Import de modules\n",
    "import pandas as pd\n",
    "import matplotlib.pyplot as plt\n",
    "# Pour la boite de dialogue\n",
    "import tkinter as tk\n",
    "from tkinter import simpledialog\n",
    "# Pour les jours de la semaine en français\n",
    "from locale import setlocale, LC_TIME\n",
    "setlocale(LC_TIME, 'fr_FR.UTF-8')\n",
    "import ipywidgets as widgets\n",
    "\n",
    "# Import des fichiers de Chicago, New York et Washington\n",
    "data_chicago = pd.read_csv(\"cleaned_chicago_city.csv\")\n",
    "data_newyork = pd.read_csv(\"cleaned_new_york_city.csv\")\n",
    "data_washington = pd.read_csv(\"cleaned_washington_city.csv\")\n",
    "\n",
    "# Je convertis les datetime pour après récuperer les mois et jours\n",
    "data_chicago['Start Time'] = pd.to_datetime(data_chicago['Start Time'])\n",
    "data_chicago['End Time'] = pd.to_datetime(data_chicago['End Time'])\n",
    "\n",
    "data_newyork['Start Time'] = pd.to_datetime(data_newyork['Start Time'])\n",
    "data_newyork['End Time'] = pd.to_datetime(data_newyork['End Time'])\n",
    "\n",
    "data_washington['Start Time'] = pd.to_datetime(data_washington['Start Time'])\n",
    "data_washington['End Time'] = pd.to_datetime(data_washington['End Time'])\n",
    "\n",
    "# Création de dictionnaire pour récuperer le int de mois\n",
    "\n",
    "dict_mois = {\n",
    "    1: \"Janvier\", \n",
    "    2: \"Février\",\n",
    "    3: \"Mars\",\n",
    "    4: \"Avril\",\n",
    "    5: \"Mai\",\n",
    "    6: \"Juin\",\n",
    "    7: \"Juillet\",\n",
    "    8: \"Août\",\n",
    "    9: \"Septembre\",\n",
    "    10: \"Octobre\",\n",
    "    11: \"Novembre\",\n",
    "    12: \"Décembre\"\n",
    "}\n",
    "\n",
    "# Choix des 3 villes\n",
    "villes = ['Chicago', 'New York', 'Washington']\n",
    "boutons_villes = widgets.RadioButtons(options=villes, description='Villes :')\n",
    "\n",
    "# Pour les mois\n",
    "boutons_mois = widgets.RadioButtons(options=dict_mois.values(), description='Mois :')\n",
    "\n",
    "# Pour afficher les résultats à droite\n",
    "resultats_html = widgets.HTML(value=\"<b><h1>********** TABLEAU DE BORD **********</h1></b>\")\n",
    "\n",
    "# Fonction pour filtrer la table avec le mois souhaité avec le Start Time\n",
    "def filtrer_data(ville_data, mois):\n",
    "    return ville_data[ville_data['Start Time'].dt.month == list(dict_mois.keys())[list(dict_mois.values()).index(mois)]]\n",
    "\n",
    "# Fonctions pour les statistiques\n",
    "def statistiques(ville, mois):\n",
    "    if ville == 'Chicago':\n",
    "        resultat = filtrer_data(data_chicago, mois)\n",
    "    elif ville == 'New York':\n",
    "        resultat = filtrer_data(data_newyork, mois)\n",
    "    elif ville == 'Washington':\n",
    "        resultat = filtrer_data(data_washington, mois)\n",
    "    else: \n",
    "        # retourne un dataframe vide\n",
    "        resultat = pd.DataFrame()\n",
    "    \n",
    "    if not resultat.empty:\n",
    "        # Dans le cas où on rècupere une table non vide(mois renseigné)\n",
    "\n",
    "        # 1. Le jour de la semaine avec le plus d'activité\n",
    "        # je crée une colonne jour pour récuperer les jours de la semaine\n",
    "        resultat.loc[:, 'jour'] = resultat['Start Time'].dt.strftime('%A')\n",
    "        nb1 = resultat.groupby('jour').size().rename(\"nb_jour\").sort_values(ascending=False).reset_index()\n",
    "        meilleur_jour = nb1.iloc[0]['jour']   \n",
    "\n",
    "        # 2. L'heure de démarrage la plus courante.\n",
    "        # je crée une colonne heure pour récuperer les heures\n",
    "        resultat.loc[:, 'heure'] = resultat['Start Time'].dt.hour.apply(lambda x: str(x).zfill(2))\n",
    "        nb2 = resultat.groupby('heure').size().rename(\"heure_debut\").sort_values(ascending=False).reset_index()\n",
    "        debut = nb2.iloc[0]['heure']\n",
    "\n",
    "        # 3. La durée de voyage moyen sur la période (mois). en minute\n",
    "        duree = resultat['Trip Duration'].mean() / 60\n",
    "\n",
    "        # 4. Le total pour chaque catégorie de User\n",
    "\n",
    "        nb3 = resultat.groupby('Gender').size().rename(\"Genre\").sort_values(ascending=False).reset_index()\n",
    "        femme = nb3.iloc[0]['Genre']\n",
    "        homme = nb3.iloc[1]['Genre']\n",
    "        nonrenseigne = nb3.iloc[2]['Genre']\n",
    "        \n",
    "\n",
    "    else:\n",
    "        meilleur_jour = debut = duree = femme = homme = nonrenseigne = 0\n",
    "    \n",
    "    return meilleur_jour, debut, duree, femme, homme, nonrenseigne\n",
    "\n",
    "def maj_resultats(ville, mois):\n",
    "    meilleur_jour, debut, duree, femme, homme, nonrenseigne = statistiques(ville, mois)\n",
    "    resultats_html.value = f\"<b><h1>********** TABLEAU DE BORD **********</h1></b><br>\"\\\n",
    "                           f\"Ville sélectionnée : {ville}, Mois sélectionné : {mois}<br>\" \\\n",
    "                           f\"<b>Jour avec le plus d'activité :</b> {meilleur_jour}<br>\" \\\n",
    "                           f\"<b>Heure de démarrage la plus courante :</b> {debut}<br>\" \\\n",
    "                           f\"<b>Durée moyenne des trajets (en minutes) :</b> {duree:.2f}<br>\"\\\n",
    "                           f\"<b>Le total des femmes est :</b> {femme}<br>\"\\\n",
    "                           f\"<b>Le total des hommes est :</b> {homme}<br>\"\\\n",
    "                           f\"<b>Le total du genre non renseigné est :</b> {nonrenseigne}\"\n",
    "\n",
    "bouton_valider = widgets.Button(description=\"Valider\")\n",
    "\n",
    "def valider_clic(b):\n",
    "    resultats_html.value = \"\"  # Réinitialisation du contenu à une chaîne vide\n",
    "    maj_resultats(boutons_villes.value, boutons_mois.value)\n",
    "\n",
    "    # maj_resultats(boutons_villes.value, boutons_mois.value)\n",
    "\n",
    "bouton_valider.on_click(valider_clic)\n",
    "\n",
    "espace1 = widgets.HTML(value=\"<br>\" * 8)\n",
    "espace2 = widgets.HTML(value=\"<br>\" * 9)\n",
    "\n",
    "colonne1 = widgets.VBox([boutons_villes])\n",
    "colonne2 = widgets.VBox([boutons_mois])\n",
    "espace3 = widgets.VBox([])\n",
    "colonne4 = widgets.VBox([resultats_html])\n",
    "\n",
    "display(widgets.HBox([colonne1, colonne2, espace3, colonne4]))\n",
    "display(widgets.HBox([espace1, bouton_valider, espace2]))"
   ]
  },
  {
   "cell_type": "code",
   "execution_count": null,
   "id": "a5b0a571-2215-44e9-beae-b746d24ac5f4",
   "metadata": {},
   "outputs": [],
   "source": []
  }
 ],
 "metadata": {
  "kernelspec": {
   "display_name": "Python 3 (ipykernel)",
   "language": "python",
   "name": "python3"
  },
  "language_info": {
   "codemirror_mode": {
    "name": "ipython",
    "version": 3
   },
   "file_extension": ".py",
   "mimetype": "text/x-python",
   "name": "python",
   "nbconvert_exporter": "python",
   "pygments_lexer": "ipython3",
   "version": "3.9.0"
  }
 },
 "nbformat": 4,
 "nbformat_minor": 5
}
